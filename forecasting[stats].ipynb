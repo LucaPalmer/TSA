{
 "cells": [
  {
   "cell_type": "markdown",
   "id": "8b09134b-977c-4b17-a8c1-cbcf35406838",
   "metadata": {},
   "source": [
    "# Time Series Forecasting of Historical GME Data"
   ]
  },
  {
   "cell_type": "markdown",
   "id": "9ed36ea9-d281-4a8a-b3d5-3a10b0aa9694",
   "metadata": {},
   "source": [
    "[Daily GME Historical Dataset](https://www.kaggle.com/hananxx/gamestop-historical-stock-prices)"
   ]
  },
  {
   "cell_type": "code",
   "execution_count": 1,
   "id": "3c6b9dcd-74c0-4cb7-9983-e40f05e10162",
   "metadata": {
    "tags": []
   },
   "outputs": [],
   "source": [
    "# Below loads all the preliminaries for the analysis.\n",
    "\n",
    "# Data Manipulation/Plotting\n",
    "\n",
    "from math import sqrt\n",
    "import numpy as np\n",
    "import pandas as pd\n",
    "import itertools\n",
    "import matplotlib.pyplot as plt\n",
    "import seaborn as sns\n",
    "sns.set()\n",
    "from warnings import simplefilter\n",
    "\n",
    "\n",
    "# statsmodel for statistical modelling (Exponential Smoothing, Seasonal Decomposition, Dickey Fuller Test - ACF/PACF, ADF Test)\n",
    "\n",
    "import statsmodels.tsa.api as smt\n",
    "import statsmodels.api as sm\n",
    "from scipy.optimize import minimize\n",
    "from statsmodels.tsa.stattools import adfuller\n",
    "from statsmodels.tsa.seasonal import seasonal_decompose\n",
    "from statsmodels.tsa.stattools import acf, pacf\n",
    "\n",
    "from statsmodels.tsa.holtwinters import SimpleExpSmoothing, ExponentialSmoothing, Holt   \n",
    "\n",
    "# Sci-kit learn (and Sktime) for metrics, splitting datasets, converting time series to supervised learning\n",
    "from sklearn.metrics import r2_score, median_absolute_error, mean_absolute_error\n",
    "from sklearn.metrics import median_absolute_error, mean_squared_error, mean_squared_log_error\n",
    "from sktime.forecasting.base import ForecastingHorizon\n",
    "from sktime.forecasting.naive import NaiveForecaster\n",
    "from sktime.forecasting.model_selection import (\n",
    "    ExpandingWindowSplitter,\n",
    "    ForecastingGridSearchCV,\n",
    "    SlidingWindowSplitter,\n",
    "    temporal_train_test_split,\n",
    ")\n",
    "from sktime.forecasting.compose import (\n",
    "    EnsembleForecaster,\n",
    "    MultiplexForecaster,\n",
    "    TransformedTargetForecaster,\n",
    "    make_reduction,\n",
    ")\n",
    "\n",
    "from sktime.performance_metrics.forecasting import (\n",
    "    MeanAbsolutePercentageError,\n",
    "    mean_absolute_percentage_error,\n",
    ")\n",
    "\n",
    "from sktime.utils.plotting import plot_series\n"
   ]
  },
  {
   "cell_type": "markdown",
   "id": "de1fa355-7c4d-4af1-bd5e-60e8d7e2bce0",
   "metadata": {},
   "source": [
    "## Data Preprocessing"
   ]
  },
  {
   "cell_type": "markdown",
   "id": "f2479776-5ea2-4a6a-9407-829c187efd7b",
   "metadata": {},
   "source": [
    "Setting the index_col parameter to zero and parsing the dates in the column ensures that the data can be considered time series."
   ]
  },
  {
   "cell_type": "code",
   "execution_count": 3,
   "id": "fa542fa8-b00f-4941-9cce-774673d42e7b",
   "metadata": {
    "tags": []
   },
   "outputs": [
    {
     "data": {
      "text/html": [
       "<div>\n",
       "<style scoped>\n",
       "    .dataframe tbody tr th:only-of-type {\n",
       "        vertical-align: middle;\n",
       "    }\n",
       "\n",
       "    .dataframe tbody tr th {\n",
       "        vertical-align: top;\n",
       "    }\n",
       "\n",
       "    .dataframe thead th {\n",
       "        text-align: right;\n",
       "    }\n",
       "</style>\n",
       "<table border=\"1\" class=\"dataframe\">\n",
       "  <thead>\n",
       "    <tr style=\"text-align: right;\">\n",
       "      <th></th>\n",
       "      <th>open_price</th>\n",
       "      <th>high_price</th>\n",
       "      <th>low_price</th>\n",
       "      <th>close_price</th>\n",
       "      <th>volume</th>\n",
       "      <th>adjclose_price</th>\n",
       "    </tr>\n",
       "    <tr>\n",
       "      <th>date</th>\n",
       "      <th></th>\n",
       "      <th></th>\n",
       "      <th></th>\n",
       "      <th></th>\n",
       "      <th></th>\n",
       "      <th></th>\n",
       "    </tr>\n",
       "  </thead>\n",
       "  <tbody>\n",
       "    <tr>\n",
       "      <th>2002-02-13</th>\n",
       "      <td>9.625000</td>\n",
       "      <td>10.060000</td>\n",
       "      <td>9.525000</td>\n",
       "      <td>10.050000</td>\n",
       "      <td>19054000.0</td>\n",
       "      <td>6.766666</td>\n",
       "    </tr>\n",
       "    <tr>\n",
       "      <th>2002-02-14</th>\n",
       "      <td>10.175000</td>\n",
       "      <td>10.195000</td>\n",
       "      <td>9.925000</td>\n",
       "      <td>10.000000</td>\n",
       "      <td>2755400.0</td>\n",
       "      <td>6.733003</td>\n",
       "    </tr>\n",
       "    <tr>\n",
       "      <th>2002-02-15</th>\n",
       "      <td>10.000000</td>\n",
       "      <td>10.025000</td>\n",
       "      <td>9.850000</td>\n",
       "      <td>9.950000</td>\n",
       "      <td>2097400.0</td>\n",
       "      <td>6.699336</td>\n",
       "    </tr>\n",
       "    <tr>\n",
       "      <th>2002-02-19</th>\n",
       "      <td>9.900000</td>\n",
       "      <td>9.900000</td>\n",
       "      <td>9.375000</td>\n",
       "      <td>9.550000</td>\n",
       "      <td>1852600.0</td>\n",
       "      <td>6.430017</td>\n",
       "    </tr>\n",
       "    <tr>\n",
       "      <th>2002-02-20</th>\n",
       "      <td>9.600000</td>\n",
       "      <td>9.875000</td>\n",
       "      <td>9.525000</td>\n",
       "      <td>9.875000</td>\n",
       "      <td>1723200.0</td>\n",
       "      <td>6.648838</td>\n",
       "    </tr>\n",
       "    <tr>\n",
       "      <th>...</th>\n",
       "      <td>...</td>\n",
       "      <td>...</td>\n",
       "      <td>...</td>\n",
       "      <td>...</td>\n",
       "      <td>...</td>\n",
       "      <td>...</td>\n",
       "    </tr>\n",
       "    <tr>\n",
       "      <th>2021-01-22</th>\n",
       "      <td>42.590000</td>\n",
       "      <td>76.760002</td>\n",
       "      <td>42.320000</td>\n",
       "      <td>65.010002</td>\n",
       "      <td>196784300.0</td>\n",
       "      <td>65.010002</td>\n",
       "    </tr>\n",
       "    <tr>\n",
       "      <th>2021-01-25</th>\n",
       "      <td>96.730003</td>\n",
       "      <td>159.179993</td>\n",
       "      <td>61.130001</td>\n",
       "      <td>76.790001</td>\n",
       "      <td>177874000.0</td>\n",
       "      <td>76.790001</td>\n",
       "    </tr>\n",
       "    <tr>\n",
       "      <th>2021-01-26</th>\n",
       "      <td>88.559998</td>\n",
       "      <td>150.000000</td>\n",
       "      <td>80.199997</td>\n",
       "      <td>147.979996</td>\n",
       "      <td>178588000.0</td>\n",
       "      <td>147.979996</td>\n",
       "    </tr>\n",
       "    <tr>\n",
       "      <th>2021-01-27</th>\n",
       "      <td>354.829987</td>\n",
       "      <td>380.000000</td>\n",
       "      <td>249.000000</td>\n",
       "      <td>347.510010</td>\n",
       "      <td>93396700.0</td>\n",
       "      <td>347.510010</td>\n",
       "    </tr>\n",
       "    <tr>\n",
       "      <th>2021-01-28</th>\n",
       "      <td>265.000000</td>\n",
       "      <td>483.000000</td>\n",
       "      <td>112.250000</td>\n",
       "      <td>193.600006</td>\n",
       "      <td>58815800.0</td>\n",
       "      <td>193.600006</td>\n",
       "    </tr>\n",
       "  </tbody>\n",
       "</table>\n",
       "<p>4773 rows × 6 columns</p>\n",
       "</div>"
      ],
      "text/plain": [
       "            open_price  high_price   low_price  close_price       volume  \\\n",
       "date                                                                       \n",
       "2002-02-13    9.625000   10.060000    9.525000    10.050000   19054000.0   \n",
       "2002-02-14   10.175000   10.195000    9.925000    10.000000    2755400.0   \n",
       "2002-02-15   10.000000   10.025000    9.850000     9.950000    2097400.0   \n",
       "2002-02-19    9.900000    9.900000    9.375000     9.550000    1852600.0   \n",
       "2002-02-20    9.600000    9.875000    9.525000     9.875000    1723200.0   \n",
       "...                ...         ...         ...          ...          ...   \n",
       "2021-01-22   42.590000   76.760002   42.320000    65.010002  196784300.0   \n",
       "2021-01-25   96.730003  159.179993   61.130001    76.790001  177874000.0   \n",
       "2021-01-26   88.559998  150.000000   80.199997   147.979996  178588000.0   \n",
       "2021-01-27  354.829987  380.000000  249.000000   347.510010   93396700.0   \n",
       "2021-01-28  265.000000  483.000000  112.250000   193.600006   58815800.0   \n",
       "\n",
       "            adjclose_price  \n",
       "date                        \n",
       "2002-02-13        6.766666  \n",
       "2002-02-14        6.733003  \n",
       "2002-02-15        6.699336  \n",
       "2002-02-19        6.430017  \n",
       "2002-02-20        6.648838  \n",
       "...                    ...  \n",
       "2021-01-22       65.010002  \n",
       "2021-01-25       76.790001  \n",
       "2021-01-26      147.979996  \n",
       "2021-01-27      347.510010  \n",
       "2021-01-28      193.600006  \n",
       "\n",
       "[4773 rows x 6 columns]"
      ]
     },
     "execution_count": 3,
     "metadata": {},
     "output_type": "execute_result"
    }
   ],
   "source": [
    "data = pd.read_csv(r'D:\\Documents\\gamestop.csv', index_col=0, parse_dates=['date'])\n",
    "data.sort_values(by='date', ascending='True')"
   ]
  },
  {
   "cell_type": "markdown",
   "id": "a1194143-efd7-49e8-87c5-658403595f03",
   "metadata": {},
   "source": [
    "Python now recognises this dataset as data recorded over a period of time."
   ]
  },
  {
   "cell_type": "code",
   "execution_count": 4,
   "id": "03ab73bc-f234-44f4-9d6b-6806773d8790",
   "metadata": {
    "tags": []
   },
   "outputs": [],
   "source": [
    "ts = data\n",
    "ts = ts.sort_index() #Sorts to ascending by default\n",
    "ts = ts[725:4000]\n",
    "ts = ts.asfreq('M')\n",
    "ts['adjclose_price'].interpolate(method='linear', inplace=True)"
   ]
  },
  {
   "cell_type": "markdown",
   "id": "755b0bb9-4be4-4449-a6f4-9a874168c6f4",
   "metadata": {},
   "source": [
    "The dataset frequency has been changed from daily frequency to monthly frequency. This technique in data science is known as downsampling, and it's purpose is to reduce your sample size for analysis. Because the dataset is spread over the span of 19 years, predicting based on individual days is unnecessary for capturing the overall structure of the data. Graphs become difficult to read, and a larger quantity of computational processing power is required. Thus, monthly frequency is better suited for this analysis."
   ]
  },
  {
   "cell_type": "markdown",
   "id": "c8108bf6-dbb8-49a0-8664-bfb23602d248",
   "metadata": {},
   "source": [
    "To account for the loss of data when converting from daily data to monthly data, [linear interpolation](https://www.toppr.com/guides/maths-formulas/linear-interpolation-formula/) was used to fill the missing data.\n",
    "\n",
    "The chosen variable for the time series was the close price of GME stocks. In the stock market, close prices * finish *"
   ]
  },
  {
   "cell_type": "code",
   "execution_count": 5,
   "id": "49a0f816-f1b9-4bed-ad8e-e4b9b177541f",
   "metadata": {},
   "outputs": [],
   "source": [
    "ts = ts['adjclose_price'] #Select close price as the Series data"
   ]
  },
  {
   "cell_type": "code",
   "execution_count": null,
   "id": "a377185c-6fbd-4ddd-98ba-ff01c9ce889e",
   "metadata": {},
   "outputs": [],
   "source": [
    "ts.describe()"
   ]
  },
  {
   "cell_type": "markdown",
   "id": "ed5fd432-732a-4da9-b4ee-bb101ce4eab1",
   "metadata": {},
   "source": [
    "Standard deviation measure is low, which means that values in the dataset are not very spread out. This makes sense for time series because values will gradually change over time, so they will be closer together. "
   ]
  },
  {
   "cell_type": "code",
   "execution_count": null,
   "id": "87f9b792-c170-4113-8485-b857dfd9cfa1",
   "metadata": {
    "tags": []
   },
   "outputs": [],
   "source": [
    "sns.set_style('darkgrid')\n",
    "sns.kdeplot(ts, shade=True)\n",
    "plt.title('Gamestop Closing Price (Density)', loc = 'right', fontsize=14)\n",
    "\n",
    "plt.show()"
   ]
  },
  {
   "cell_type": "markdown",
   "id": "2e95dbdb-bc0f-4b2c-b43d-689aa256e71c",
   "metadata": {},
   "source": [
    "Density appears to suggest a continuous probability distribution in the form of gamma distribution. For values that can potentially take on a wide range of values, gamma type distribution is likely. For example, [rainfall rates, queue wait times or life expectancy](https://study.com/academy/lesson/gamma-distribution-definition-equations-examples.html) can expect to see gamma type distribution.  \n",
    "\n",
    "For time series forecasting, as the forecast progresses, elements of the series can take on a wide range of values. This distribution seems appropriate."
   ]
  },
  {
   "cell_type": "code",
   "execution_count": null,
   "id": "63638b0e-b1a9-42c2-ba04-70f31bd9bca0",
   "metadata": {
    "tags": []
   },
   "outputs": [],
   "source": [
    "#line graph of closing price, allows for evaluation of seasonality/trend \n",
    "plt.figure(figsize=(10,6))\n",
    "plt.grid(True)\n",
    "plt.xlabel('Time')\n",
    "plt.ylabel('Adjusted Close Prices')\n",
    "plt.plot(ts)\n",
    "plt.title('Gamestop Closing Prices')\n",
    "plt.show()\n"
   ]
  },
  {
   "cell_type": "markdown",
   "id": "c8fcee4c-29a9-4689-ba85-8d695225342c",
   "metadata": {},
   "source": [
    "Beginning in 2006, the series measures with low closing prices, gradually increasing, and then peaking in 2008 before plummeting in 2009. Two years later, this same pattern repeats itself from 2011 to 2014. In the fourth quarter of 2015, the trend declines, echoing the same decline as 2009. \n"
   ]
  },
  {
   "cell_type": "code",
   "execution_count": null,
   "id": "fa4bdc15-8ff5-48ad-93a0-8fbb08082cee",
   "metadata": {},
   "outputs": [],
   "source": [
    "decomp = seasonal_decompose(ts)\n",
    "\n",
    "decomp.plot()\n",
    "plt.show()"
   ]
  },
  {
   "cell_type": "markdown",
   "id": "c93ae2bb-4817-42a4-b669-bd30c102c22c",
   "metadata": {},
   "source": [
    "**Seasonal Decomposition**\n",
    "\n",
    "Seasonal decomposition describes the mathematical process of converting a single time series into multiple time series. Through this process, underlying features of the time series can be further evaluated:\n",
    "\n",
    "Trend - Ascending and declining trend is present in this dataset. The trend decline from 2009 to 2014 appears to be steeper than the more gradual decline occuring from 2014 onwards. The peak close price for GME occurred in 2008, with a similar but slightly lower peak occuring in 2014.\n",
    "\n",
    "Seasonality - In this dataset, the regular peaks that follow a consistent pattern, (2006-2009) and (2011-2014), imply that there is seasonality within this dataset. The decomposition plot appears to show additive seasonality, as indicated by the lack of variation in the patterns as time progresses."
   ]
  },
  {
   "cell_type": "markdown",
   "id": "dafd0a8a-7544-4c8e-b5b7-3ada7dafde4d",
   "metadata": {},
   "source": [
    "## Statistical Methods for Time Series Forecasting"
   ]
  },
  {
   "cell_type": "markdown",
   "id": "6015f21d-c9d7-4df4-86b9-1368898e54bf",
   "metadata": {},
   "source": [
    "### Single Exponential Smoothing: "
   ]
  },
  {
   "cell_type": "code",
   "execution_count": null,
   "id": "4711bc23-989a-492c-8c29-cc3f7282927f",
   "metadata": {},
   "outputs": [],
   "source": [
    "# Sourced from: https://gist.github.com/marcopeix/a9a37792661b57e581414735824e9e9d\n",
    "\n",
    "def exponential_smoothing(series, alpha):\n",
    "\n",
    "    result = [series[0]] # first value is same as series\n",
    "    for n in range(1, len(series)):\n",
    "        result.append(alpha * series[n] + (1 - alpha) * result[n-1])\n",
    "    return result\n",
    "  \n",
    "def plot_exponential_smoothing(series, alphas):\n",
    " \n",
    "    plt.figure(figsize=(17, 8))\n",
    "    for alpha in alphas:\n",
    "        plt.plot(exponential_smoothing(series, alpha), label=\"Alpha {}\".format(alpha))\n",
    "    plt.plot(series.values, \"c\", label = \"Actual\")\n",
    "    plt.legend(loc=\"best\")\n",
    "    plt.axis('tight')\n",
    "    plt.title('Single Exponential Smoothing')\n",
    "    plt.grid(True);\n",
    "\n",
    "plot_exponential_smoothing(ts, [0.6, 0.6])"
   ]
  },
  {
   "cell_type": "markdown",
   "id": "55d07f8e-d359-43e0-b723-9f66c6369824",
   "metadata": {},
   "source": [
    "The alpha parameter functions as the smoothing factor. It decides roughly how well fitted the alpha line will fit to the line plotting the actual data. The higher the alpha parameter is tuned, the more stricter the fit of the alpha line is to the actual line. As shown above, at any alpha measurement, the SES method is incapable capturing the sharpest peaks and troughs in the dataset."
   ]
  },
  {
   "cell_type": "markdown",
   "id": "0392e61b-cae0-4f07-bb5b-662154d0a127",
   "metadata": {},
   "source": [
    "### Double Exponential Smoothing (Holt's Method): "
   ]
  },
  {
   "cell_type": "code",
   "execution_count": null,
   "id": "f8e88416-e85f-420c-aea5-c6c8a80275f9",
   "metadata": {},
   "outputs": [],
   "source": [
    "# Sourced from: https://www.statsmodels.org/dev/examples/notebooks/generated/exponential_smoothing.html\n",
    "\n",
    "fit1 = Holt(ts, initialization_method=\"estimated\").fit(smoothing_level=0.8, smoothing_trend=0.2, optimized=True)\n",
    "fcast1 = fit1.forecast(12).rename(\"Holt's linear trend\")\n",
    "\n",
    "fit2 = Holt(ts, exponential=True, initialization_method=\"estimated\").fit(smoothing_level=0.8, smoothing_trend=0.2, optimized=True)\n",
    "fcast2 = fit2.forecast(12).rename(\"Exponential trend\")\n",
    "\n",
    "fit3 = Holt(ts, damped_trend=True, initialization_method=\"estimated\").fit(smoothing_level=0.8, smoothing_trend=0.2, optimized=True)\n",
    "fcast3 = fit3.forecast(12).rename(\"Additive damped trend\")\n",
    "\n",
    "fit1.fittedvalues.plot(color='blue')\n",
    "fcast1.plot(color='blue', legend=True)\n",
    "\n",
    "fit2.fittedvalues.plot(color='red')\n",
    "fcast2.plot(color='red', legend=True)\n",
    "\n",
    "fit3.fittedvalues.plot(color='green')\n",
    "fcast3.plot(color='green', legend=True)\n",
    "\n",
    "plt.show()"
   ]
  },
  {
   "cell_type": "markdown",
   "id": "2ebb27ba-3a15-4d8f-a9ee-f47ace6e2547",
   "metadata": {},
   "source": [
    "Now, the beta parameters are incorporated into the exponential smoothing process, resulting in Double Exponential Smoothing. While the alpha parameters (indicated by the 'smoothing_level' parameter) are maintained for the smoothing factor, the beta parameter (indicated by the 'smoothing_trend' parameter) introduces smoothing for trends in the time series data. As shown by the plot, this allows for more accurate fitting across sharp peaks and troughs. "
   ]
  },
  {
   "cell_type": "markdown",
   "id": "b9bfe2c2-1b5e-4a50-9753-a29e5e0e8e08",
   "metadata": {},
   "source": [
    "### Triple Exponential Smoothing (Holt's-Winter Method)"
   ]
  },
  {
   "cell_type": "code",
   "execution_count": null,
   "id": "e1b0a2a3-1b41-4f11-a434-465ffcc2624e",
   "metadata": {},
   "outputs": [],
   "source": [
    "fit1 = ExponentialSmoothing(ts, seasonal_periods=12, trend='add', seasonal='add', use_boxcox=True, initialization_method=\"estimated\").fit()\n",
    "fit2 = ExponentialSmoothing(ts, seasonal_periods=12, trend='add', seasonal='mul', use_boxcox=True, initialization_method=\"estimated\").fit()\n",
    "fit3 = ExponentialSmoothing(ts, seasonal_periods=12, trend='add', seasonal='add', damped_trend=True, use_boxcox=True, initialization_method=\"estimated\").fit()\n",
    "fit4 = ExponentialSmoothing(ts, seasonal_periods=12, trend='add', seasonal='mul', damped_trend=True, use_boxcox=True, initialization_method=\"estimated\").fit()\n",
    "results=pd.DataFrame(index=[r\"$\\alpha$\",r\"$\\beta$\",r\"$\\phi$\",r\"$\\gamma$\",r\"$l_0$\",\"$b_0$\",\"SSE\"])\n",
    "params = ['smoothing_level', 'smoothing_trend', 'damping_trend', 'smoothing_seasonal', 'initial_level', 'initial_trend']\n",
    "results[\"Additive\"]       = [fit1.params[p] for p in params] + [fit1.sse]\n",
    "results[\"Multiplicative\"] = [fit2.params[p] for p in params] + [fit2.sse]\n",
    "results[\"Additive Dam\"]   = [fit3.params[p] for p in params] + [fit3.sse]\n",
    "results[\"Multiplica Dam\"] = [fit4.params[p] for p in params] + [fit4.sse]\n",
    "\n",
    "ax = ts.plot(figsize=(17, 14), marker='', color='black', title=\"Forecasts from Holt-Winters' multiplicative method\" )\n",
    "ax.set_ylabel(\"Gamestop Close Price\")\n",
    "ax.set_xlabel(\"Year\")\n",
    "fit1.fittedvalues.plot(ax=ax, style='--', color='red')\n",
    "fit2.fittedvalues.plot(ax=ax, style='--', color='green')\n",
    "\n",
    "fit1.forecast(8).rename('Holt-Winters (add-add-seasonal)').plot(ax=ax, style='--', marker='', color='red', legend=True)\n",
    "fit2.forecast(8).rename('Holt-Winters (add-mul-seasonal)').plot(ax=ax, style='--', marker='', color='green', legend=True)\n",
    "\n",
    "plt.show()\n",
    "print(\"\\nResults: \\n\")\n",
    "results"
   ]
  },
  {
   "cell_type": "markdown",
   "id": "1706fd26-3dd9-4b6f-8475-98c13f065c53",
   "metadata": {},
   "source": [
    "Triple Exponential Seasoning introduces the gamma parameter to the technique. This parameter allows for fitting to time series data with seasonality present within it's structure. The statsmodel library enables users to use the most optimised parameters for fitting the trend and seasonality lines, as determined by the library. Judging by the plot, the addition/multiplicative seasonality smoothing does not seem to be as accurate as Double Exponential Smoothing for model fitting. The additive/additive method appears to be more suitable for model fitting as the line closely matches the line representing the time series value.\n",
    "\n",
    "However, for forecasting, both methods appear to look questionable compared to Double Exponential Smoothing. Here, we can conclude that for a quick predicitive fitting for this particular time series, Double Exponential Smoothing performs the best for both fitting and forecasting."
   ]
  },
  {
   "cell_type": "markdown",
   "id": "637a5d94-277c-4d87-86fc-fb7c7ec7a225",
   "metadata": {},
   "source": [
    "### Naive Forecaster:"
   ]
  },
  {
   "cell_type": "markdown",
   "id": "ea442b3a-32bc-4703-9725-1335d1d35427",
   "metadata": {},
   "source": [
    "The naive forecaster one of the most simplest forecasting methods. It provides a good baseline of comparison for more complex models utilised in the notebook. By setting the size of the test data to 12, the naive forecasting strategy uses this test data to predict the last 12 values of the dataset."
   ]
  },
  {
   "cell_type": "code",
   "execution_count": null,
   "id": "aaed259e-a860-4cd9-904c-67ff25d08fd2",
   "metadata": {},
   "outputs": [],
   "source": [
    "y_train, y_test = temporal_train_test_split(ts, test_size=12)\n",
    "print(y_train.shape[0], y_test.shape[0])"
   ]
  },
  {
   "cell_type": "code",
   "execution_count": null,
   "id": "c70f1e15-38c7-4ae6-9958-8ce215f15e97",
   "metadata": {},
   "outputs": [],
   "source": [
    "fh = ForecastingHorizon(y_test.index, is_relative=False)"
   ]
  },
  {
   "cell_type": "code",
   "execution_count": null,
   "id": "d36e3e9b-845a-4a84-84fd-cc95c48a4443",
   "metadata": {},
   "outputs": [],
   "source": [
    "forecaster = NaiveForecaster(strategy=\"last\", sp=12)\n",
    "forecaster.fit(y_train)\n",
    "y_pred = forecaster.predict(fh)\n",
    "plot_series(y_train, y_test, y_pred, labels=[\"y_train\", \"y_test\", \"y_pred\"])\n",
    "print(\"Mean Absolute Error: \", mean_absolute_error(y_pred, y_test))    \n",
    "print(\"\\nRoot Mean Squared Error: \", sqrt(mean_squared_error(y_pred, y_test)))\n",
    "print(\"\\nMean Absolute Percentage Error: \", mean_absolute_percentage_error(y_pred, y_test)*100, \"\\n\")"
   ]
  },
  {
   "cell_type": "markdown",
   "id": "12f7a547-f865-428e-8e0d-5a4fa7129e3e",
   "metadata": {},
   "source": [
    "For the naive forecaster, the dataset was split into training and testing data. For the Sktime library, a forecasting horizon is required for forecasting. The forecasting horizon functions as the independent 'time' variable which the dependent (y) variable is measured against. In our model, the forecasting horizon uses the index of the test data, because this is what we will be testing our forecasting prediction against. In the plot, both the yellow and green line are tested against each other for accuracy. They have the same amount of points. \n",
    "\n",
    "The error metric for this model and all models in this analysis will be the mean absolute error, mean absolute percentage error and root mean squared error. As we can see, the MAE measures at 4.3 and the MAPE is measuring at 22%, which indicates a decently fitted model. The average difference between the test values and the predicted values do not measure more than 25%. Furthermore, the average distance from the test values compared to the predicted values is shown by the RMSE, measuring at 4.6. Because accuracy is in the best interest of this analysis, this low average is a very good score for this analysis.\n",
    "\n",
    "In the analysis, the objective will be to achieve a model that rivals or outperforms this model by scoring lower metrics than the naive forecaster."
   ]
  },
  {
   "cell_type": "markdown",
   "id": "4166f80d-3122-44c4-ba4c-e951575c5b53",
   "metadata": {},
   "source": [
    "---------------------------------------------------"
   ]
  },
  {
   "cell_type": "markdown",
   "id": "ab75838d-cf40-40a1-a5c4-dff28d3ef853",
   "metadata": {},
   "source": [
    "### AutoRegressive (AR) Model"
   ]
  },
  {
   "cell_type": "markdown",
   "id": "0ed3a7c4-6144-4d41-a647-67bfc6e612d3",
   "metadata": {},
   "source": [
    "The Augmented Dickey-Fuller Test is a statistical test used for evaluating whether stationarity is present within time series data. This is crucial for any Autoregressive model (AR). The purpose of the test is to determine whether time series is stationary or not. Below, the regular time series values and the differenced time series values are used for the statistical test."
   ]
  },
  {
   "cell_type": "code",
   "execution_count": null,
   "id": "fad71f33-2471-4704-9a00-3ebdb4e88d24",
   "metadata": {},
   "outputs": [],
   "source": [
    "# Augmented Dickey-Fuller Test\n",
    "\n",
    "ts_diff = ts.diff(2) # Difference data by two\n",
    "ts_diff = ts_diff.dropna()"
   ]
  },
  {
   "cell_type": "code",
   "execution_count": null,
   "id": "b0e97736-f035-429e-9756-d19d9dd22196",
   "metadata": {},
   "outputs": [],
   "source": [
    "adf_result=adfuller(ts.values, autolag='AIC')\n",
    "dict(zip(['adf', 'pvalue', 'usedlag', 'nobs', 'critical' 'values', 'icbest'],adf_result)) # The names of every value have been added\n",
    "#tsplot(data_diff.values[1:], lags=12)"
   ]
  },
  {
   "cell_type": "code",
   "execution_count": null,
   "id": "8c44eb8d-df6b-4f63-b706-63da62aa864d",
   "metadata": {},
   "outputs": [],
   "source": [
    "adf_result=adfuller(ts_diff.values, autolag='AIC')\n",
    "#to help you, we added the names of every value\n",
    "dict(zip(['adf', 'pvalue', 'usedlag', 'nobs', 'critical' 'values', 'icbest'],adf_result))\n",
    "#tsplot(data_diff.values[1:], lags=12)"
   ]
  },
  {
   "cell_type": "markdown",
   "id": "44755aed-835f-4437-8fe1-d061b03c5b76",
   "metadata": {},
   "source": [
    "**ADF Statistic: Non-Differenced = -2.708 // Differenced = -4.039**\n",
    "\n",
    "The more negative this statistic, the more likely the time series can be considered stationary. A value of -2 for the non-differenced time series indicates a decently strong presence of stationarity. However, with differencing, the statistic falls to -4.039 which suggests an even stronger presence of stationarity in the differenced data. \n",
    "\n",
    "**P-value: Non-Differenced = 0.07257 // Differenced = 0.001**\n",
    "\n",
    "The non-differenced values fall slightly higher than the statistical significance metric (0.05). This is an indication that we cannot reject the null hypothesis therefore, even if the ADF statistic is negative, we cannot reject the null hypothesis and must assume the data is non-stationary. For the differenced dataset, the p-value falls extremely low with a difference of 1 between the original values and the lagged values. For this value, we can most certainly reject the null hypothesis, which means we can consider the time series stationary. \n",
    "\n",
    "---"
   ]
  },
  {
   "cell_type": "markdown",
   "id": "148609bb-c62e-4195-9db5-f749af5a3038",
   "metadata": {},
   "source": [
    "#### Non-Differenced Values"
   ]
  },
  {
   "cell_type": "markdown",
   "id": "62313444-4446-4256-bc6d-3a943d509b70",
   "metadata": {},
   "source": [
    "#### Non-Stationary Autocorrelation Plot:"
   ]
  },
  {
   "cell_type": "code",
   "execution_count": null,
   "id": "a74c7032-6029-489f-8df5-ff497b54fdc0",
   "metadata": {},
   "outputs": [],
   "source": [
    "# plots normal time series for Dickey-Fuller Test. Sourced from: \n",
    "\n",
    "def tsplot(y, lags=None, figsize=(12, 7), syle='bmh'):\n",
    "    \n",
    "    if not isinstance(y, pd.Series):\n",
    "        y = pd.Series(y)\n",
    "        \n",
    "    with plt.style.context(style='bmh'):\n",
    "        fig = plt.figure(figsize=figsize)\n",
    "        layout = (2,2)\n",
    "        ts_ax = plt.subplot2grid(layout, (0,0), colspan=2)\n",
    "        acf_ax = plt.subplot2grid(layout, (1,0))\n",
    "        pacf_ax = plt.subplot2grid(layout, (1,1))\n",
    "        \n",
    "        y.plot(ax=ts_ax)\n",
    "        p_value = sm.tsa.stattools.adfuller(y)[1]\n",
    "        ts_ax.set_title('Time Series Analysis Plots\\n Dickey-Fuller: p={0:.5f}'.format(p_value))\n",
    "        smt.graphics.plot_acf(y, lags=lags, ax=acf_ax)\n",
    "        smt.graphics.plot_pacf(y, lags=lags, ax=pacf_ax)\n",
    "        plt.tight_layout()\n",
    "\n",
    "# lags parameter determines the amount of points to plot for Autocorrelation plots\n",
    "tsplot(ts.values, lags=15)"
   ]
  },
  {
   "cell_type": "markdown",
   "id": "0a725022-8291-4094-812a-5248420727e2",
   "metadata": {},
   "source": [
    "The autocorrelation plot shows the lag values along the X-axis, and the correlation along the Y-axis. The plot shows a declining trend of correlation within the dataset. There are 13 lags present. The first lag is actually lag 0, which corresponds to correlation with itself. For this reason, it is measured as 1. The remaining lags indicate the correlation between the values of the time series dataset with a delayed value of itself. For example, correlation measured at lag 2, measures values of the time series that have shifted by 2. In this case, because the frequency is months, it would shift by a lag value of 2 months.\n",
    "\n",
    "There is huge amount of significant correlation along all lag values in the plot and the decline is very gradual. It is not until lag 9 that we see a significant decrease in correlation in the ACF plot, as this is the first lag to fall below the statistical signifance boundary (blue shade). "
   ]
  },
  {
   "cell_type": "code",
   "execution_count": null,
   "id": "f70e5b27-7e3a-410b-8a50-3bd8ce0602ee",
   "metadata": {},
   "outputs": [],
   "source": [
    "from statsmodels.tsa.ar_model import AutoReg\n",
    "from sklearn.metrics import mean_squared_error\n",
    "from math import sqrt\n",
    "\n",
    "X = ts.values\n",
    "ar_train, ar_test = X[0:120], X[121:157]\n",
    "# train autoregression\n",
    "window = 12\n",
    "model = AutoReg(ar_train, lags=12)\n",
    "model_fit = model.fit()\n",
    "coef = model_fit.params\n",
    "\n",
    "# walk forward over time steps in test\n",
    "history = ar_train[len(ar_train)-window:]\n",
    "history = [history[i] for i in range(len(history))]\n",
    "predictions = list()\n",
    "for t in range(len(ar_test)):\n",
    "\tlength = len(history)\n",
    "\tlag = [history[i] for i in range(length-window,length)]\n",
    "\tyhat = coef[0]\n",
    "\tfor d in range(window):\n",
    "\t\tyhat += coef[d+1] * lag[window-d-1]\n",
    "\tobs = ar_test[t]\n",
    "\tpredictions.append(yhat)\n",
    "\thistory.append(obs)\n",
    "\tprint('predicted=%f, expected=%f' % (yhat, obs))\n",
    "print(\"\\nMean Absolute Error: \", mean_absolute_error(predictions, ar_test))    \n",
    "print(\"\\nRoot Mean Squared Error: \", sqrt(mean_squared_error(predictions, ar_test)))\n",
    "print(\"\\nMean Absolute Percentage Error: \", mean_absolute_percentage_error(predictions, ar_test)*100, \"\\n\")\n",
    "# plot\n",
    "plt.plot(ar_test)\n",
    "plt.plot(predictions, color='red')\n",
    "plt.show()"
   ]
  },
  {
   "cell_type": "markdown",
   "id": "6f9073ce-080d-46d3-af72-4ae28ee8d517",
   "metadata": {},
   "source": [
    "#### Differenced Values"
   ]
  },
  {
   "cell_type": "markdown",
   "id": "0d2eea10-dfea-4363-bd6c-c37bff241af4",
   "metadata": {},
   "source": [
    "#### Stationary Autocorrelation Plot:"
   ]
  },
  {
   "cell_type": "code",
   "execution_count": null,
   "id": "58252631-472f-48e4-aa68-8af41f01eac3",
   "metadata": {},
   "outputs": [],
   "source": [
    "# plots normal time series for Dickey-Fuller Test\n",
    "tsplot(ts_diff.values, lags=12)"
   ]
  },
  {
   "cell_type": "markdown",
   "id": "f02571c6-fd6b-4593-a518-d38b0351ba5b",
   "metadata": {},
   "source": [
    "Differencing the data by 2 results in the lowest p-value that is > 0. As shown in the ACF plot, most of the points are now within the same blue area, and are measuring close to 0.0. This means that the trend from the data has been removed. As mentioned, lag 0 will always measure at 1. The following lags show heavily decreased correlation with the differenced values in comparison to the non-differenced values. In comparison, these values lose correlation instantly after lag 1, and it is only lag 0 & 1 that are statistically significant because it ranks higher than the significance level (indicated by the blue shade).\n",
    "\n",
    "---"
   ]
  },
  {
   "cell_type": "code",
   "execution_count": null,
   "id": "1247f8f1-b0c8-4a3f-b9fc-546b56293a7c",
   "metadata": {},
   "outputs": [],
   "source": [
    "X = ts_diff.values\n",
    "ar_train, ar_test = X[0:120], X[121:157]\n",
    "# train autoregression\n",
    "window = 12\n",
    "model = AutoReg(ar_train, lags=12)\n",
    "model_fit = model.fit()\n",
    "coef = model_fit.params\n",
    "\n",
    "# walk forward over time steps in test\n",
    "history = ar_train[len(ar_train)-window:]\n",
    "history = [history[i] for i in range(len(history))]\n",
    "predictions = list()\n",
    "for t in range(len(ar_test)):\n",
    "\tlength = len(history)\n",
    "\tlag = [history[i] for i in range(length-window,length)]\n",
    "\tyhat = coef[0]\n",
    "\tfor d in range(window):\n",
    "\t\tyhat += coef[d+1] * lag[window-d-1]\n",
    "\tobs = ar_test[t]\n",
    "\tpredictions.append(yhat)\n",
    "\thistory.append(obs)\n",
    "\tprint('predicted=%f, expected=%f' % (yhat, obs))\n",
    "print(\"\\nMean Absolute Error: \", mean_absolute_error(predictions, ar_test))    \n",
    "print(\"\\nRoot Mean Squared Error: \", sqrt(mean_squared_error(predictions, ar_test)))\n",
    "print(\"\\nMean Absolute Percentage Error: \", mean_absolute_percentage_error(predictions, ar_test)*100, \"\\n\")\n",
    "# plot\n",
    "plt.plot(ar_test)\n",
    "plt.plot(predictions, color='red')\n",
    "plt.show()"
   ]
  },
  {
   "cell_type": "markdown",
   "id": "ac88fb48-f82a-4612-b013-420f08bf41b7",
   "metadata": {},
   "source": [
    "\n",
    "\n",
    "**Test RMSE: 1.525**\n",
    "\n",
    "This is the Root Mean Square Error for both models. This is the error metric for this model. The closer to 0, the more accurate the models predictions are to the expected values. Judging by the actual prediction and expected values, the model is mostly accurate.\n",
    "\n",
    "It can be concluded that without differencing, the time series is non-stationary due to it's p-values and significantly higher ADF statistic.\n",
    "\n",
    "**MAPE: 91.719**\n",
    "\n",
    "\"ADD MORE HERE\""
   ]
  },
  {
   "cell_type": "markdown",
   "id": "8f928545-96bf-4485-9f16-7bf625ecacd9",
   "metadata": {},
   "source": [
    "### Moving Average (MA) Model"
   ]
  },
  {
   "cell_type": "code",
   "execution_count": null,
   "id": "3d7bd2cd-2cbe-4e2f-b39e-658f8c0b47b2",
   "metadata": {},
   "outputs": [],
   "source": [
    "#SMA Taken from: https://gist.github.com/RohanTrix/b2301db8b63dcd9fe0b13a271ac4080c\n",
    "\n",
    "def plot_moving_average(series, window, plot_intervals=False, scale=1.96):\n",
    "\n",
    "    rolling_mean = series.rolling(window=window).mean()\n",
    "    \n",
    "    plt.figure(figsize=(17,8))\n",
    "    plt.title('Simple Moving Average\\n window size = {}'.format(window))\n",
    "    plt.plot(rolling_mean, 'g', label='Rolling mean trend')\n",
    "    \n",
    "    #Plot confidence intervals for smoothed values\n",
    "    if plot_intervals:\n",
    "        mae = mean_absolute_error(series[window:], rolling_mean[window:])\n",
    "        rmse = np.sqrt(((series - window) ** 2).mean())\n",
    "        \n",
    "        deviation = np.std(series[window:] - rolling_mean[window:])\n",
    "        lower_bound = rolling_mean - (mae + scale * deviation)\n",
    "        upper_bound = rolling_mean + (mae + scale * deviation)\n",
    "        #plt.plot(upper_bound, 'r--', label='Upper bound / Lower bound')\n",
    "        #plt.plot(lower_bound, 'r--')\n",
    "        #print(\"Mean Absolute Error: \", mae, \"\\n\")    #uncomment to see MAE and RMSE\n",
    "        #print(\"Root Mean Squared Error\", rmse, \"\\n\")\n",
    "    print(\"Mean Absolute Error\", mae)    \n",
    "    print(\"\\nMean Absolute Percentage Error: \", mean_absolute_percentage_error(series[window:], rolling_mean[window:])*100, \"\\n\")    \n",
    "    print(\"RMSE: \", rmse)\n",
    "    plt.plot(series[window:], label='Actual values')\n",
    "    plt.legend(loc='best')\n",
    "    plt.grid(True)\n",
    "    \n",
    "#Smooth by the previous 5 days (by week)\n",
    "plot_moving_average(ts, 5, plot_intervals=True)"
   ]
  },
  {
   "cell_type": "code",
   "execution_count": null,
   "id": "02f42732-c189-4159-a20b-df2c213775f1",
   "metadata": {},
   "outputs": [],
   "source": [
    "#SMA Taken from: https://gist.github.com/RohanTrix/b2301db8b63dcd9fe0b13a271ac4080c\n",
    "\n",
    "def plot_moving_average(series, window, plot_intervals=False, scale=1.96):\n",
    "\n",
    "    rolling_mean = series.rolling(window=window).mean()\n",
    "    \n",
    "    plt.figure(figsize=(17,8))\n",
    "    plt.title('Simple Moving Average\\n window size = {}'.format(window))\n",
    "    plt.plot(rolling_mean, 'g', label='Rolling mean trend')\n",
    "    \n",
    "    #Plot confidence intervals for smoothed values\n",
    "    if plot_intervals:\n",
    "        mae = mean_absolute_error(series[window:], rolling_mean[window:])\n",
    "        rmse = np.sqrt(((series - window) ** 2).mean())\n",
    "        deviation = np.std(series[window:] - rolling_mean[window:])\n",
    "        lower_bound = rolling_mean - (mae + scale * deviation)\n",
    "        upper_bound = rolling_mean + (mae + scale * deviation)\n",
    "        #plt.plot(upper_bound, 'r--', label='Upper bound / Lower bound')\n",
    "        #plt.plot(lower_bound, 'r--')\n",
    "        #print(\"Mean Absolute Error: \", mae, \"\\n\")    #uncomment to see MAE and RMSE\n",
    "        #print(\"Root Mean Squared Error\", rmse, \"\\n\")\n",
    "    print(\"Mean Absolute Error: \", mae)\n",
    "    print(\"\\nMean Absolute Percentage Error: \", mean_absolute_percentage_error(series[window:], rolling_mean[window:])*100, \"\\n\")  \n",
    "    print(\"Root Mean Squared Error: \", rmse)    \n",
    "    plt.plot(series[window:], label='Actual values')\n",
    "    plt.legend(loc='best')\n",
    "    plt.grid(True)\n",
    "    \n",
    "#Smooth by the previous 5 days (by week)\n",
    "plot_moving_average(ts_diff, 5, plot_intervals=True)"
   ]
  },
  {
   "cell_type": "code",
   "execution_count": null,
   "id": "c674c77d-fa28-4dd4-a4fb-9a283cae5777",
   "metadata": {},
   "outputs": [],
   "source": [
    "#Function taken from: https://gist.github.com/sohan-py/ab148e7716e1964be2fda42c132c2699#file-ema-py\n",
    "\n",
    "def calculate_ema(prices, days, smoothing=14.5):\n",
    "    ema = [sum(prices[:days]) / days]\n",
    "    for price in prices[days:]:\n",
    "        ema.append((price * (smoothing / (1 + days))) + ema[-1] * (1 - (smoothing / (1 + days))))\n",
    "    return ema\n",
    "\n",
    "\n",
    "ema = calculate_ema(ts, 10)\n",
    "\n",
    "price_X = np.arange(ts.shape[0]) # Creates array [0, 1, 2, 3, ..., df.shape[0]]\n",
    "ema_X = np.arange(10, ts.shape[0]+1) # Creates array [10, 11, 12, 13, ..., df.shape[0]+1]\n",
    "                                     # We start at 10, because we use the first 10 values to calculate the SMA,\n",
    "                                     # then we calculate EMA form the 11th valu\n",
    "plt.figure(figsize=(17,8))\n",
    "plt.title('Exponential Moving Average\\n Window Size = 10')        \n",
    "plt.xlabel('Days')\n",
    "plt.ylabel('Price')\n",
    "plt.plot(price_X, ts, label='Closing Prices')\n",
    "plt.plot(ema_X, ema, label='EMA', color = 'g')\n",
    "plt.legend()\n",
    "#print(\"RMSE: \", sqrt(mean_absolute_error(ema, ts))) # Unable to calculate RMSE correctly\n",
    "plt.show()"
   ]
  },
  {
   "cell_type": "code",
   "execution_count": null,
   "id": "f15b6056-c637-4fdf-931c-5ea187412015",
   "metadata": {},
   "outputs": [],
   "source": [
    "#Function taken from: https://gist.github.com/sohan-py/ab148e7716e1964be2fda42c132c2699#file-ema-py\n",
    "\n",
    "def calculate_ema(prices, days, smoothing=14.5):\n",
    "    ema = [sum(prices[:days]) / days]\n",
    "    for price in prices[days:]:\n",
    "        ema.append((price * (smoothing / (1 + days))) + ema[-1] * (1 - (smoothing / (1 + days))))\n",
    "    return ema\n",
    "\n",
    "\n",
    "ema = calculate_ema(ts_diff, 10)\n",
    "\n",
    "price_X = np.arange(ts_diff.shape[0]) # Creates array [0, 1, 2, 3, ..., df.shape[0]]\n",
    "ema_X = np.arange(10, ts_diff.shape[0]+1) # Creates array [10, 11, 12, 13, ..., df.shape[0]+1]\n",
    "                                     # We start at 10, because we use the first 10 values to calculate the SMA,\n",
    "                                     # then we calculate EMA form the 11th valu\n",
    "plt.figure(figsize=(17,8))\n",
    "plt.title('Exponential Moving Average\\n Window Size = 10')        \n",
    "plt.xlabel('Days')\n",
    "plt.ylabel('Price')\n",
    "plt.plot(price_X, ts_diff, label='Closing Prices')\n",
    "plt.plot(ema_X, ema, label='EMA', color = 'g')\n",
    "plt.legend()\n",
    "#print(\"RMSE: \", sqrt(mean_absolute_error(ema, ts))) # Unable to calculate RMSE correctly\n",
    "plt.show()"
   ]
  },
  {
   "cell_type": "markdown",
   "id": "815093e1-4aab-4926-a6eb-af2a2fcaf06e",
   "metadata": {},
   "source": [
    "The test RMSE for Simple Moving Average measures higher for non-differenced time series than the differenced time series. This suggests that differenced data is neccessary for a moving average model. Even though this is the case, the line appears to fit much better for Exponential Moving Average. For this analysis, the calculation for RMSE for Exponential Moving Average was unable to be calculated, therefore, the error metric of the model could not be calculated.\n",
    "\n"
   ]
  },
  {
   "cell_type": "markdown",
   "id": "ad44d952-c12c-4d9d-b1f5-a4b8b74b16a1",
   "metadata": {},
   "source": [
    "### ARIMA Model"
   ]
  },
  {
   "cell_type": "code",
   "execution_count": null,
   "id": "b5831fdc-feb6-4577-80cc-cdca4508157e",
   "metadata": {},
   "outputs": [],
   "source": [
    "import pmdarima as pm\n",
    "from pmdarima.arima import auto_arima"
   ]
  },
  {
   "cell_type": "markdown",
   "id": "e1b8a246-3d65-4739-9fbd-dd2186f31665",
   "metadata": {},
   "source": [
    "First, the data was split into testing and training data. 80% of the data was used for training and 20% was used for testing. This was accomplished by splitting the length of the time series index first, by multiplying the length of the time series index by the size (0.8) of the training data. Then the training and testing variables were created using integer location indexing."
   ]
  },
  {
   "cell_type": "code",
   "execution_count": null,
   "id": "ee343060-0609-4fff-8642-48ddebf105a9",
   "metadata": {},
   "outputs": [],
   "source": [
    "# Train Test Split Index\n",
    "train_size = 0.8\n",
    "split_idx = round(len(ts)* train_size)\n",
    "split_idx\n",
    "\n",
    "# Split\n",
    "arima_train = ts.iloc[:split_idx]\n",
    "arima_test = ts.iloc[split_idx:]\n",
    "\n",
    "# Visualize split\n",
    "fig,ax= plt.subplots(figsize=(15,10))\n",
    "plt.plot(arima_train, label='Train')\n",
    "plt.plot(arima_test, label='Test')\n",
    "ax.legend(loc = 'upper left')"
   ]
  },
  {
   "cell_type": "code",
   "execution_count": null,
   "id": "58e4ac6b-5b0a-4b6f-8036-93b5c869574b",
   "metadata": {},
   "outputs": [],
   "source": [
    "# Sourced from: \n",
    "\n",
    "arima_model = auto_arima(arima_train, start_p=0, start_q=0,\n",
    "                             max_p=5, max_q=5, m=12,\n",
    "                             start_P= 0, start_D = 0, start_Q= 0, \n",
    "                             seasonal=True, stationary = False,\n",
    "                             d=1, D=1, trace=True,\n",
    "                             error_action='ignore',  \n",
    "                             suppress_warnings=True,  \n",
    "                             stepwise=False)  \n",
    "arima_model.summary()\n"
   ]
  },
  {
   "cell_type": "markdown",
   "id": "ce5fca45-f44f-4785-a0ce-ff5ac70cf9a1",
   "metadata": {},
   "source": [
    "For the ARIMA model, the pmdarima library was used. This library is a port of the auto.arima function from the R forecast library. It utilises a grid search method to attempt all hyperparameter combinations for comparing the best results. The best model is chosen based on the lowest AIC measurement. The model received was the SARIMAX variant of the ARIMA model which takes into account seasonality (S) and exogenous variables (X). \n",
    "\n",
    "#### Hyperparameters:\n",
    "\n",
    "* Start p and q: The start p, q and d for the ARIMA component were set to 0 because it is more suitable for the grid search to iterate through all possible parameters starting from 0. \n",
    "\n",
    "* Start P and Q: The start P, Q and D for the seasonal component of the ARIMA model were set to 0 because it is more suitable for the grid search to iterate through all possible parameters starting from 0. \n",
    "\n",
    "* d and D: The differencing (integrated) component of the SARIMAX model was set to 1. There was seasonality in the dataset as seen in prior analysis using only the Autoregressive model which required differencing. When set to 0, this results in worse predictions. \n",
    "\n",
    "* Seasonality: Set to TRUE. The time series training data does contain seasonality so the model search has been limited to only stationary ARIMA models. Setting this to False results in inaccurate predictions. \n",
    "\n",
    "* Stationarity: Set to FALSE. The inputted time series training data is not stationary. Therefore, the search should include models that are non-stationary. Setting this to True results in more accuracy according to RMSE but loses the trend of the data. Using differenced values also results in worse accuracy.  \n",
    "\n",
    "* Stepwise: Set to False. Stepwise search is less thorough than non-stepwise search. Non-stepwise search is known as parallelised search. This method brute force attempts every possible combination for the lowest AIC. \n",
    "\n",
    "#### Summary:\n",
    "\n",
    "The main metrics of interest in the summary is 'P>|z|'\n",
    "\n",
    "* P>|z| - This indicates the p-values, which we want to be as close to 0 as possible. Nearly all of them are close to zero which is a good sign for the model. "
   ]
  },
  {
   "cell_type": "code",
   "execution_count": null,
   "id": "6443711c-8805-413f-9712-38effdd55556",
   "metadata": {},
   "outputs": [],
   "source": [
    "arima_model.plot_diagnostics()"
   ]
  },
  {
   "cell_type": "code",
   "execution_count": null,
   "id": "a8e675fa-890c-4a70-8c39-1ea9f9b6c747",
   "metadata": {},
   "outputs": [],
   "source": [
    "# Sourced from: \n",
    "\n",
    "prediction = pd.DataFrame(arima_model.predict(n_periods = 31), index=arima_test.index)\n",
    "\n",
    "prediction.columns = ['predicted_close_price']\n",
    "\n",
    "print(prediction, \"\\nArima Test Data: \\n\", arima_test)\n",
    "#print("
   ]
  },
  {
   "cell_type": "code",
   "execution_count": null,
   "id": "ba6e3663-142f-45f4-b094-6ad27a3230b4",
   "metadata": {},
   "outputs": [],
   "source": [
    "#forecasting with ARIMA\n",
    "\n",
    "plt.figure(figsize=(12, 9))\n",
    "plt.title(\"Forecast vs Actuals\")\n",
    "plt.plot(arima_train, label = \"Training\")\n",
    "plt.plot(arima_test, label = \"Test\")\n",
    "plt.plot(prediction, label = \"Predicted\")\n",
    "plt.legend(loc = \"upper left\")\n",
    "plt.show()"
   ]
  },
  {
   "cell_type": "code",
   "execution_count": null,
   "id": "662db2fe-5c36-4b73-ab30-968d03e5b4a8",
   "metadata": {
    "tags": []
   },
   "outputs": [],
   "source": [
    "# Sourced from: \n",
    "\n",
    "# Forecast\n",
    "n_periods = 31\n",
    "fc, confint = arima_model.predict(n_periods=n_periods, return_conf_int=True)\n",
    "index_of_fc = np.arange(len(ts.values), len(ts.values)+n_periods)\n",
    "\n",
    "# make series for plotting purpose\n",
    "fc_series = pd.Series(fc, index=index_of_fc)\n",
    "lower_series = pd.Series(confint[:, 0], index=index_of_fc)\n",
    "upper_series = pd.Series(confint[:, 1], index=index_of_fc)\n",
    "\n",
    "# Plot\n",
    "plt.figure(figsize=(12, 9))\n",
    "plt.plot(ts.values)\n",
    "plt.plot(fc_series, color='darkgreen')\n",
    "plt.fill_between(lower_series.index, \n",
    "                 lower_series, \n",
    "                 upper_series, \n",
    "                 color='k', alpha=.15)\n",
    "\n",
    "plt.title(\"Final Forecast of Gamestop Close Price\")\n",
    "plt.show()"
   ]
  },
  {
   "cell_type": "code",
   "execution_count": null,
   "id": "ab3c596c-605f-479c-bd43-43c08cfdb4bd",
   "metadata": {},
   "outputs": [],
   "source": [
    "# Sourced from: \n",
    "\n",
    "def forecast_accuracy(forecast, actual):\n",
    "    mape = np.mean(np.abs(forecast - actual)/np.abs(actual))  # MAPE\n",
    "    me = np.mean(forecast - actual)             # ME\n",
    "    mae = np.mean(np.abs(forecast - actual))    # MAE\n",
    "    mpe = np.mean((forecast - actual)/actual)   # MPE\n",
    "    rmse = np.mean((forecast - actual)**2)**.5  # RMSE\n",
    "    corr = np.corrcoef(forecast, actual)[0,1]   # corr\n",
    "    mins = np.amin(np.hstack([forecast[:,None], \n",
    "                              actual[:,None]]), axis=1)\n",
    "    maxs = np.amax(np.hstack([forecast[:,None], \n",
    "                              actual[:,None]]), axis=1)\n",
    "    minmax = 1 - np.mean(mins/maxs)             # minmax\n",
    "    acf1 = acf(fc-arima_test)[1]                      # ACF1\n",
    "    return({'mape':mape, 'me':me, 'mae': mae, \n",
    "            'mpe': mpe, 'rmse':rmse, 'acf1':acf1, \n",
    "            'corr':corr, 'minmax':minmax})\n",
    "\n",
    "forecast_accuracy(fc, arima_test.values)"
   ]
  },
  {
   "cell_type": "markdown",
   "id": "cc9cf885-1866-4bd4-8cfa-15103d139065",
   "metadata": {},
   "source": [
    "#### Prediction Values & Forecast Plot:\n",
    "\n",
    "As shown by the prediction values and the test data values, as the time progresses, the predictions become more inaccurate. In the plot, the predicted values progress further into the incorrect direction of the test values. It appears as if the values are inverted. The test values progress lower and the prediction values progress higher. \n",
    "\n",
    "#### Metric Summary: \n",
    "\n",
    "The predictions appear to resemble the predicitions of the naive model. The predictions become less accurate as time progresses although, the results are marginally more inaccurate than the naive model. Compared to the naive model MAPE score of 0.22, the ARIMA model scored 0.27 for it's MAPE metric. Also, similar to the naive model, the time progression results in the predicitions exponentially predicting into the opposite direction although, in the ARIMA model, the magnitude of the predictions are stronger. MAE and RMSE rank fairly high which is consistent with the inaccurate results. As explained above, there are ways of tuning the parameters to get the metrics to rank lower however, much of the trend information is lost during this process and sense cannot be made from the plot, even if the direction of the prediction is closer to the one we currently have. Overall, the naive forecaster seems to be more balanced in it's predictions. "
   ]
  },
  {
   "cell_type": "markdown",
   "id": "f061ceeb-16c5-4470-b292-a2c535e0a0c9",
   "metadata": {},
   "source": [
    "## Machine Learning Methods for Time Series Analysis"
   ]
  },
  {
   "cell_type": "markdown",
   "id": "9cbcc687-4155-4795-bd43-8327d5270364",
   "metadata": {},
   "source": [
    "Here, we "
   ]
  },
  {
   "cell_type": "code",
   "execution_count": null,
   "id": "5ae28646-fca1-4d5c-82f3-48ebea804025",
   "metadata": {},
   "outputs": [],
   "source": [
    "print(y_test, y_pred)"
   ]
  },
  {
   "cell_type": "markdown",
   "id": "a49851f4-9f5d-4d03-9c66-fc845af5dd2f",
   "metadata": {},
   "source": [
    "### K Neighbours Regression for Time Series Forecasting"
   ]
  },
  {
   "cell_type": "code",
   "execution_count": 18,
   "id": "664032db-801d-4ba0-8691-f398335aaaf5",
   "metadata": {},
   "outputs": [],
   "source": [
    "from sklearn.neighbors import KNeighborsRegressor\n",
    "from sktime.utils.plotting import plot_series\n",
    "from sktime.forecasting.compose import make_reduction\n",
    "regressor = KNeighborsRegressor(n_neighbors=1)\n",
    "forecaster = make_reduction(regressor, window_length=15, strategy=\"recursive\")"
   ]
  },
  {
   "cell_type": "code",
   "execution_count": 19,
   "id": "349c443c-d9d6-42a4-a097-0ec59c69c92a",
   "metadata": {},
   "outputs": [
    {
     "name": "stdout",
     "output_type": "stream",
     "text": [
      "121 36\n"
     ]
    }
   ],
   "source": [
    "y_train, y_test = temporal_train_test_split(ts, test_size=36)\n",
    "print(y_train.shape[0], y_test.shape[0])"
   ]
  },
  {
   "cell_type": "code",
   "execution_count": 20,
   "id": "8db130f7-62b0-47c0-82c8-972a5b203fd0",
   "metadata": {},
   "outputs": [
    {
     "data": {
      "text/plain": [
       "ForecastingHorizon(['2015-01-31', '2015-02-28', '2015-03-31', '2015-04-30',\n",
       "               '2015-05-31', '2015-06-30', '2015-07-31', '2015-08-31',\n",
       "               '2015-09-30', '2015-10-31', '2015-11-30', '2015-12-31',\n",
       "               '2016-01-31', '2016-02-29', '2016-03-31', '2016-04-30',\n",
       "               '2016-05-31', '2016-06-30', '2016-07-31', '2016-08-31',\n",
       "               '2016-09-30', '2016-10-31', '2016-11-30', '2016-12-31',\n",
       "               '2017-01-31', '2017-02-28', '2017-03-31', '2017-04-30',\n",
       "               '2017-05-31', '2017-06-30', '2017-07-31', '2017-08-31',\n",
       "               '2017-09-30', '2017-10-31', '2017-11-30', '2017-12-31'],\n",
       "              dtype='datetime64[ns]', name='date', freq='M', is_relative=False)"
      ]
     },
     "execution_count": 20,
     "metadata": {},
     "output_type": "execute_result"
    }
   ],
   "source": [
    "fh = ForecastingHorizon(y_test.index, is_relative=False)\n",
    "fh"
   ]
  },
  {
   "cell_type": "code",
   "execution_count": 26,
   "id": "bf026a46-b587-412e-abad-09ff1f7d58d2",
   "metadata": {},
   "outputs": [
    {
     "name": "stdout",
     "output_type": "stream",
     "text": [
      "\n",
      "Mean Absolute Error:  6.3036144706938\n",
      "\n",
      "Mean Absolute Percentage Error:  0.2606444607145971\n",
      "\n",
      "Root Mean Squared Error:  7.475319478632831\n"
     ]
    },
    {
     "data": {
      "image/png": "[encoded data removed]",
      "text/plain": [
       "<Figure size 1152x288 with 1 Axes>"
      ]
     },
     "metadata": {},
     "output_type": "display_data"
    }
   ],
   "source": [
    "forecaster.fit(y_train)\n",
    "y_pred = forecaster.predict(fh)\n",
    "plot_series(y_train, y_test, y_pred, labels=[\"y_train\", \"y_test\", \"y_pred\"])\n",
    "print(\"\\nMean Absolute Error: \", mean_absolute_error(y_pred, y_test)) \n",
    "print(\"\\nMean Absolute Percentage Error: \", mean_absolute_percentage_error(y_pred, y_test))\n",
    "print(\"\\nRoot Mean Squared Error: \", sqrt(mean_squared_error(y_pred, y_test)))"
   ]
  },
  {
   "cell_type": "markdown",
   "id": "5f9b6861-27a6-4a0e-9397-f7a1e369e739",
   "metadata": {},
   "source": [
    "### Gradient Boosted Trees for Time Series Forecasting"
   ]
  },
  {
   "cell_type": "code",
   "execution_count": 17,
   "id": "c64b090f-5c91-4539-8c29-eb243742e681",
   "metadata": {
    "tags": []
   },
   "outputs": [
    {
     "name": "stderr",
     "output_type": "stream",
     "text": [
      "C:\\Users\\lucap\\miniconda3\\envs\\Jupyterlab\\lib\\site-packages\\xgboost\\core.py:444: UserWarning: Use subset (sliced data) of np.ndarray is not recommended because it will generate extra copies and increase memory consumption\n",
      "  \"because it will generate extra copies and increase \" +\n"
     ]
    },
    {
     "name": "stdout",
     "output_type": "stream",
     "text": [
      ">expected=19.9, predicted=20.0\n",
      ">expected=19.9, predicted=20.3\n",
      ">expected=18.6, predicted=20.1\n",
      ">expected=18.5, predicted=18.9\n",
      ">expected=18.3, predicted=18.0\n",
      ">expected=18.1, predicted=18.5\n",
      ">expected=18.2, predicted=18.4\n",
      ">expected=15.5, predicted=18.5\n",
      ">expected=15.8, predicted=15.9\n",
      ">expected=16.0, predicted=17.1\n",
      ">expected=16.4, predicted=16.9\n",
      ">expected=16.4, predicted=15.7\n",
      "\n",
      "Root Mean Squared Error:  1.0601618520856162\n",
      "\n",
      "Mean Absolute Percentage Error:  4.084000171973464 \n",
      "\n",
      "Mean Absolute Error: 0.716\n"
     ]
    },
    {
     "data": {
      "image/png": "[encoded data removed]",
      "text/plain": [
       "<Figure size 432x288 with 1 Axes>"
      ]
     },
     "metadata": {},
     "output_type": "display_data"
    }
   ],
   "source": [
    "from xgboost import XGBRegressor\n",
    " \n",
    "# transform a time series dataset into a supervised learning dataset\n",
    "def series_to_supervised(data, n_in=1, n_out=1, dropnan=True):\n",
    "\tn_vars = 1 if type(data) is list else data.shape[0]\n",
    "\tdf = pd.DataFrame(data)\n",
    "\tcols = list()\n",
    "\t# input sequence (t-n, ... t-1)\n",
    "\tfor i in range(n_in, 0, -1):\n",
    "\t\tcols.append(df.shift(i))\n",
    "\t# forecast sequence (t, t+1, ... t+n)\n",
    "\tfor i in range(0, n_out):\n",
    "\t\tcols.append(df.shift(-i))\n",
    "\t# put it all together\n",
    "\tagg = pd.concat(cols, axis=1)\n",
    "\t# drop rows with NaN values\n",
    "\tif dropnan:\n",
    "\t\tagg.dropna(inplace=True)\n",
    "\treturn agg.values\n",
    " \n",
    "# split a univariate dataset into train/test sets\n",
    "def train_test_split(data, n_test):\n",
    "\treturn data[:-n_test, :], data[-n_test:, :]\n",
    " \n",
    "# fit an xgboost model and make a one step prediction\n",
    "def xgboost_forecast(train, testX):\n",
    "\t# transform list into array\n",
    "\ttrain = np.asarray(train)\n",
    "\t# split into input and output columns\n",
    "\ttrainX, trainy = train[:, :-1], train[:, -1]\n",
    "\t# fit model\n",
    "\tmodel = XGBRegressor(objective='reg:squarederror', n_estimators=1000)\n",
    "\tmodel.fit(trainX, trainy)\n",
    "\t# make a one-step prediction\n",
    "\tyhat = model.predict(np.asarray([testX]))\n",
    "\treturn yhat[0]\n",
    " \n",
    "# walk-forward validation for univariate data\n",
    "def walk_forward_validation(data, n_test):\n",
    "    predictions = list()\n",
    "    # split dataset\n",
    "    train, test = train_test_split(data, n_test)\n",
    "    # seed history with training dataset\n",
    "    history = [x for x in train]\n",
    "    # step over each time-step in the test set\n",
    "    for i in range(len(test)):\n",
    "        # split test row into input and output columns\n",
    "        testX, testy = test[i, :-1], test[i, -1]\n",
    "        # fit model on history and make a prediction\n",
    "        yhat = xgboost_forecast(history, testX)\n",
    "        # store forecast in list of predictions\n",
    "        predictions.append(yhat)\n",
    "        # add actual observation to history for the next loop\n",
    "        history.append(test[i])\n",
    "        # summarize progress\n",
    "        print('>expected=%.1f, predicted=%.1f' % (testy, yhat))\n",
    "    # estimate prediction error\n",
    "    error = mean_absolute_error(test[:, -1], predictions)\n",
    "    mse = sqrt(mean_squared_error(test[:, -1], predictions)) #Not functioning as intended\n",
    "    print(\"\\nRoot Mean Squared Error: \", mse)\n",
    "    print(\"\\nMean Absolute Percentage Error: \", mean_absolute_percentage_error(test[:, -1], predictions)*100, \"\\n\")\n",
    "    return error, test[:, -1], predictions\n",
    " \n",
    "# load the dataset\n",
    "series = pd.read_csv('D:\\Documents\\gamestop.csv', header=0, index_col=0)\n",
    "values = ts.values\n",
    "# transform the time series data into supervised learning\n",
    "data = series_to_supervised(values, n_in=6)\n",
    "# evaluate\n",
    "mae, y, yhat = walk_forward_validation(data, 12)\n",
    "print('Mean Absolute Error: %.3f' % mae)\n",
    "# plot expected vs preducted\n",
    "plt.plot(y, label='Expected')\n",
    "plt.plot(yhat, label='Predicted')\n",
    "plt.legend()\n",
    "plt.show()"
   ]
  }
 ],
 "metadata": {
  "kernelspec": {
   "display_name": "Python 3",
   "language": "python",
   "name": "python3"
  },
  "language_info": {
   "codemirror_mode": {
    "name": "ipython",
    "version": 3
   },
   "file_extension": ".py",
   "mimetype": "text/x-python",
   "name": "python",
   "nbconvert_exporter": "python",
   "pygments_lexer": "ipython3",
   "version": "3.7.10"
  }
 },
 "nbformat": 4,
 "nbformat_minor": 5
}
