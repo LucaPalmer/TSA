{
 "cells": [
  {
   "cell_type": "code",
   "execution_count": null,
   "id": "3c6b9dcd-74c0-4cb7-9983-e40f05e10162",
   "metadata": {
    "tags": []
   },
   "outputs": [],
   "source": [
    "# Below loads all the preliminaries for the analysis.\n",
    "import numpy as np\n",
    "import pandas as pd\n",
    "import itertools\n",
    "import matplotlib.pyplot as plt\n",
    "import seaborn as sns\n",
    "sns.set()\n",
    "from warnings import simplefilter\n",
    "\n",
    "\n",
    "# statistical modelling\n",
    "import statsmodels.tsa.api as smt\n",
    "import statsmodels.api as sm\n",
    "from scipy.optimize import minimize\n",
    "from statsmodels.tsa.stattools import adfuller\n",
    "from statsmodels.tsa.seasonal import seasonal_decompose\n",
    "from statsmodels.tsa.stattools import acf, pacf\n",
    "\n",
    "from statsmodels.tsa.holtwinters import SimpleExpSmoothing   \n",
    "from statsmodels.tsa.holtwinters import ExponentialSmoothing\n",
    "\n",
    "from sklearn.metrics import r2_score, median_absolute_error, mean_absolute_error\n",
    "from sklearn.metrics import median_absolute_error, mean_squared_error, mean_squared_log_error\n"
   ]
  },
  {
   "cell_type": "code",
   "execution_count": null,
   "id": "b4c1e2db-9eeb-4992-aefd-cf2e833bcfcc",
   "metadata": {},
   "outputs": [],
   "source": [
    "\"\"\"\n",
    "#ML modelling\n",
    "from sklearn.metrics import r2_score, median_absolute_error, mean_absolute_error\n",
    "from sklearn.metrics import median_absolute_error, mean_squared_error, mean_squared_log_error\n",
    "\n",
    "from sktime.forecasting.naive import NaiveForecaster\n",
    "from sktime.forecasting.theta import ThetaForecaster\n",
    "from sktime.forecasting.trend import PolynomialTrendForecaster\n",
    "from sktime.performance_metrics.forecasting import (\n",
    "    MeanAbsolutePercentageError,\n",
    "    mean_absolute_percentage_error,\n",
    ")\n",
    "#from sktime.transformations.series.detrend import Deseasonalizer, Detrender\n",
    "#from sktime.utils.plotting import plot_series\n",
    "\"\"\""
   ]
  },
  {
   "cell_type": "code",
   "execution_count": null,
   "id": "b3b9ce4f-ea39-42d1-b9ae-97b10acf117a",
   "metadata": {},
   "outputs": [],
   "source": [
    "\"\"\"\n",
    "\n",
    "\n",
    "\n",
    "from tqdm import tqdm_notebook\n",
    "\n",
    "from itertools import product\n",
    "\n",
    "def mean_absolute_percentage_error(y_true, y_pred):\n",
    "    return np.mean(np.abs((y_true - y_pred) / y_true)) * 100\n",
    "\n",
    "import warnings\n",
    "warnings.filterwarnings('ignore')\n",
    "\"\"\"\n",
    "#pd.set_option('display.max_rows', None)"
   ]
  },
  {
   "cell_type": "code",
   "execution_count": null,
   "id": "fa542fa8-b00f-4941-9cce-774673d42e7b",
   "metadata": {
    "tags": []
   },
   "outputs": [],
   "source": [
    "data = pd.read_csv(r'D:\\Documents\\gamestop.csv', index_col=0, parse_dates=['date'])\n",
    "data.sort_values(by='date', ascending='True')\n"
   ]
  },
  {
   "cell_type": "code",
   "execution_count": null,
   "id": "03ab73bc-f234-44f4-9d6b-6806773d8790",
   "metadata": {
    "tags": []
   },
   "outputs": [],
   "source": [
    "ts = data\n",
    "ts = ts.sort_index()\n",
    "#ts.index = ts.index.to_period(freq='M')\n",
    "ts = ts[725:4000]\n",
    "#ts = ts.fillna(method='ffill')"
   ]
  },
  {
   "cell_type": "code",
   "execution_count": null,
   "id": "0b17fb69-ea8c-4799-9964-a544e183d685",
   "metadata": {},
   "outputs": [],
   "source": [
    "ts = ts.asfreq('M')\n",
    "#ts = ts.fillna(method='ffill')\n",
    "ts['close_price'].interpolate(method='linear', inplace=True)"
   ]
  },
  {
   "cell_type": "code",
   "execution_count": null,
   "id": "49a0f816-f1b9-4bed-ad8e-e4b9b177541f",
   "metadata": {},
   "outputs": [],
   "source": [
    "ts = ts['close_price']"
   ]
  },
  {
   "cell_type": "code",
   "execution_count": null,
   "id": "a377185c-6fbd-4ddd-98ba-ff01c9ce889e",
   "metadata": {},
   "outputs": [],
   "source": [
    "ts.describe()"
   ]
  },
  {
   "cell_type": "code",
   "execution_count": null,
   "id": "63638b0e-b1a9-42c2-ba04-70f31bd9bca0",
   "metadata": {
    "tags": []
   },
   "outputs": [],
   "source": [
    "#line graph of closing price, shows seasonality/trend \n",
    "plt.figure(figsize=(10,6))\n",
    "plt.grid(True)\n",
    "plt.xlabel('Time')\n",
    "plt.ylabel('Close Prices')\n",
    "plt.plot(ts)\n",
    "plt.title('Etherium-GBP Closing Prices')\n",
    "plt.show()\n"
   ]
  },
  {
   "cell_type": "code",
   "execution_count": null,
   "id": "87f9b792-c170-4113-8485-b857dfd9cfa1",
   "metadata": {
    "tags": []
   },
   "outputs": [],
   "source": [
    "#Density shows positive skewness \n",
    "sns.set_style('darkgrid')\n",
    "sns.kdeplot(ts, shade=True)\n",
    "plt.title('Etherium-GBP Closing Price (Density)', loc = 'right', fontsize=14)\n",
    "\n",
    "plt.show()"
   ]
  },
  {
   "cell_type": "code",
   "execution_count": null,
   "id": "23b0a8f9-00ac-433b-a189-eaae52ea67d7",
   "metadata": {},
   "outputs": [],
   "source": [
    "def exponential_smoothing(series, alpha):\n",
    "\n",
    "    result = [series[0]] # first value is same as series\n",
    "    for n in range(1, len(series)):\n",
    "        result.append(alpha * series[n] + (1 - alpha) * result[n-1])\n",
    "    return result\n",
    "  \n",
    "def plot_exponential_smoothing(series, alphas):\n",
    " \n",
    "    plt.figure(figsize=(17, 8))\n",
    "    for alpha in alphas:\n",
    "        plt.plot(exponential_smoothing(series, alpha), label=\"Alpha {}\".format(alpha))\n",
    "    plt.plot(series.values, \"c\", label = \"Actual\")\n",
    "    plt.legend(loc=\"best\")\n",
    "    plt.axis('tight')\n",
    "    plt.title('Single Exponential Smoothing')\n",
    "    plt.grid(True);\n",
    "\n",
    "plot_exponential_smoothing(ts, [0.1, 0.1])"
   ]
  },
  {
   "cell_type": "code",
   "execution_count": null,
   "id": "3ea83798-06cc-443a-a946-de7507af8a00",
   "metadata": {},
   "outputs": [],
   "source": [
    "def double_exponential_smoothing(series, alpha, beta):\n",
    "\n",
    "    result = [series[0]]\n",
    "    for n in range(1, len(series)+1):\n",
    "        if n == 1:\n",
    "            level, trend = series[0], series[1] - series[0]\n",
    "        if n >= len(series): # forecasting\n",
    "            value = result[-1]\n",
    "        else:\n",
    "            value = series[n]\n",
    "        last_level, level = level, alpha * value + (1 - alpha) * (level + trend)\n",
    "        trend = beta * (level - last_level) + (1 - beta) * trend\n",
    "        result.append(level + trend)\n",
    "    return result\n",
    "\n",
    "def plot_double_exponential_smoothing(series, alphas, betas):\n",
    "     \n",
    "    plt.figure(figsize=(17, 8))\n",
    "    for alpha in alphas:\n",
    "        for beta in betas:\n",
    "            plt.plot(double_exponential_smoothing(series, alpha, beta), label=\"Alpha {}, beta {}\".format(alpha, beta))\n",
    "    plt.plot(series.values, label = \"Actual\")\n",
    "    plt.legend(loc=\"best\")\n",
    "    plt.axis('tight')\n",
    "    plt.title(\"Double Exponential Smoothing\")\n",
    "    plt.grid(True)\n",
    "    \n",
    "plot_double_exponential_smoothing(ts, alphas=[0.1, 0.32], betas=[0.1, 0.02])"
   ]
  },
  {
   "cell_type": "code",
   "execution_count": null,
   "id": "f7b76565-7e46-4dfa-a3f4-b34863f357ca",
   "metadata": {},
   "outputs": [],
   "source": [
    "ts_add = ExponentialSmoothing(ts, trend='add',seasonal='add',seasonal_periods=65).fit().fittedvalues\n",
    "\n",
    "ts_mul = ExponentialSmoothing(ts, trend='mul',seasonal='mul',seasonal_periods=65).fit().fittedvalues\n",
    "\n",
    "plt.figure(figsize=(10,6))\n",
    "\n",
    "ts.plot(title='Holt Winters Triple Exponential Smoothing: Additive and Multiplicative Seasonality')\n",
    "ts_add.plot(title='Holt Winters Triple Exponential Smoothing: Additive and Multiplicative Seasonality')\n",
    "ts_mul.plot(title='Holt Winters Triple Exponential Smoothing: Additive and Multiplicative Seasonality')"
   ]
  },
  {
   "cell_type": "code",
   "execution_count": null,
   "id": "11f8e97b-26a1-4657-b9c6-31b96fb374d7",
   "metadata": {},
   "outputs": [],
   "source": [
    "from typing import *\n",
    "\n",
    "def initial_trend(series: List, uppercase_m: int) -> float:\n",
    "    return sum([\n",
    "        float(series[i+uppercase_m] - series[i]) / uppercase_m\n",
    "        for i in range(uppercase_m)\n",
    "    ]) / uppercase_m\n",
    "\n",
    "\n",
    "def initial_seasonality(series: List, uppercase_m: int) -> List:\n",
    "    initial_season = []\n",
    "    n_seasons = int(len(series)/uppercase_m)\n",
    "\n",
    "    season_averages = [sum(\n",
    "        series[uppercase_m * i:uppercase_m * i + uppercase_m]\n",
    "    ) / uppercase_m for i in range(n_seasons)]\n",
    "\n",
    "    initial_season.extend([\n",
    "        sum([series[uppercase_m*j+i]-season_averages[j]\n",
    "             for j in range(n_seasons)]) / n_seasons\n",
    "        for i in range(uppercase_m)\n",
    "    ])\n",
    "\n",
    "    return initial_season\n",
    "def winters_es(series: List,\n",
    "               uppercase_m: int,\n",
    "               alpha: float=0.2,\n",
    "               beta: float=0.2,\n",
    "               gamma: float=0.15,\n",
    "               future_steps: int=1) -> List:\n",
    "    \n",
    "    i_l = [series[0]]\n",
    "    i_t = [initial_trend(series, uppercase_m)]\n",
    "    i_s = initial_seasonality(series, uppercase_m)\n",
    "\n",
    "    forecasts = []\n",
    "    for t in range(len(series) + future_steps):\n",
    "\n",
    "        if t >= len(series):\n",
    "            m = t - len(series) + 1\n",
    "            forecasts.append(\n",
    "                (i_l[-1] + m * i_t[-1]) + i_s[t % uppercase_m]\n",
    "            )\n",
    "\n",
    "        else:\n",
    "            l_t = alpha * (series[t] - i_s[t % uppercase_m]) + (1 - alpha) * (i_l[-1] + i_t[-1])\n",
    "\n",
    "            i_t[-1] = beta * (l_t - i_l[-1]) + (1 - beta) * i_t[-1]\n",
    "            i_l[-1] = l_t\n",
    "\n",
    "            i_s[t % uppercase_m] = gamma * (series[t] - l_t) + (1 - gamma) * i_s[t % uppercase_m]\n",
    "\n",
    "            forecasts.append(\n",
    "                (i_l[-1] + i_t[-1]) + i_s[t % uppercase_m]\n",
    "            )\n",
    "\n",
    "    return forecasts"
   ]
  },
  {
   "cell_type": "code",
   "execution_count": null,
   "id": "eab2b57e-37e5-47d9-b6e2-e62adfda0b41",
   "metadata": {},
   "outputs": [],
   "source": [
    "#ts = ts.asfreq('D', method='pad')\n",
    "forecast = winters_es(ts, 12)"
   ]
  },
  {
   "cell_type": "code",
   "execution_count": null,
   "id": "ce70ccbe-8b17-456b-a097-1691cd913d22",
   "metadata": {},
   "outputs": [],
   "source": [
    "plt.figure(\n",
    "figsize=(10, 6)\n",
    "    )\n",
    "\n",
    "\n",
    "data = ts.values.tolist()\n",
    "\n",
    "k = 10\n",
    "\n",
    "last_months = list(range(34, 34 + k))\n",
    "\n",
    "forecast = winters_es(data, 12, future_steps=8)\n",
    "plt.plot(data, linewidth=3, label='Tesla Closing Price')\n",
    "plt.plot(forecast, linewidth=3, label='Forecast Close Price')\n",
    "plt.axvspan(*(last_months[0], last_months[-1]), \n",
    "facecolor='grey', \n",
    "alpha=0.1)\n",
    "plt.legend()\n",
    "plt.show()"
   ]
  },
  {
   "cell_type": "code",
   "execution_count": null,
   "id": "56353bff-940f-4c41-b37b-6e40a4959833",
   "metadata": {},
   "outputs": [],
   "source": [
    "decomp = seasonal_decompose(ts)\n",
    "\n",
    "decomp.plot()\n",
    "plt.show()"
   ]
  },
  {
   "cell_type": "markdown",
   "id": "3d5769b1-a0d2-4301-b5a5-f8db4e8b564a",
   "metadata": {},
   "source": [
    "---------------------------------------------------"
   ]
  },
  {
   "cell_type": "markdown",
   "id": "ab75838d-cf40-40a1-a5c4-dff28d3ef853",
   "metadata": {},
   "source": [
    "AR MODEL"
   ]
  },
  {
   "cell_type": "code",
   "execution_count": null,
   "id": "2bc605ab-2649-44ef-baef-1a17fcbc0dc1",
   "metadata": {},
   "outputs": [],
   "source": [
    "#USE BOTH DATA_DIFF AND TS FOR PAPER\n",
    "\n",
    "from statsmodels.tsa.ar_model import AutoReg\n",
    "from sklearn.metrics import mean_squared_error\n",
    "from math import sqrt\n",
    "\n",
    "X = ts.values\n",
    "ar_train, ar_test = X[0:120], X[121:157]\n",
    "# train autoregression\n",
    "window = 20\n",
    "model = AutoReg(ar_train, lags=25)\n",
    "model_fit = model.fit()\n",
    "coef = model_fit.params\n",
    "\n",
    "# walk forward over time steps in test\n",
    "history = ar_train[len(ar_train)-window:]\n",
    "history = [history[i] for i in range(len(history))]\n",
    "predictions = list()\n",
    "for t in range(len(ar_test)):\n",
    "\tlength = len(history)\n",
    "\tlag = [history[i] for i in range(length-window,length)]\n",
    "\tyhat = coef[0]\n",
    "\tfor d in range(window):\n",
    "\t\tyhat += coef[d+1] * lag[window-d-1]\n",
    "\tobs = ar_test[t]\n",
    "\tpredictions.append(yhat)\n",
    "\thistory.append(obs)\n",
    "\tprint('predicted=%f, expected=%f' % (yhat, obs))\n",
    "rmse = sqrt(mean_squared_error(ar_test, predictions))\n",
    "print('Test RMSE: %.3f' % rmse)\n",
    "# plot\n",
    "plt.plot(ar_test)\n",
    "plt.plot(predictions, color='red')\n",
    "plt.show()"
   ]
  },
  {
   "cell_type": "markdown",
   "id": "8f928545-96bf-4485-9f16-7bf625ecacd9",
   "metadata": {},
   "source": [
    "MA Model"
   ]
  },
  {
   "cell_type": "code",
   "execution_count": null,
   "id": "3d7bd2cd-2cbe-4e2f-b39e-658f8c0b47b2",
   "metadata": {},
   "outputs": [],
   "source": [
    "def plot_moving_average(series, window, plot_intervals=False, scale=1.96):\n",
    "\n",
    "    rolling_mean = series.rolling(window=window).mean()\n",
    "    \n",
    "    plt.figure(figsize=(17,8))\n",
    "    plt.title('Simple Moving Average\\n window size = {}'.format(window))\n",
    "    plt.plot(rolling_mean, 'g', label='Rolling mean trend')\n",
    "    \n",
    "    #Plot confidence intervals for smoothed values\n",
    "    if plot_intervals:\n",
    "        mae = mean_absolute_error(series[window:], rolling_mean[window:])\n",
    "        deviation = np.std(series[window:] - rolling_mean[window:])\n",
    "        lower_bound = rolling_mean - (mae + scale * deviation)\n",
    "        upper_bound = rolling_mean + (mae + scale * deviation)\n",
    "        plt.plot(upper_bound, 'r--', label='Upper bound / Lower bound')\n",
    "        plt.plot(lower_bound, 'r--')\n",
    "            \n",
    "    plt.plot(series[window:], label='Actual values')\n",
    "    plt.legend(loc='best')\n",
    "    plt.grid(True)\n",
    "    \n",
    "#Smooth by the previous 5 days (by week)\n",
    "plot_moving_average(ts, 7, plot_intervals=True)\n",
    "\n",
    "#Smooth by the previous month (30 days)\n",
    "plot_moving_average(ts, 30, plot_intervals=True)\n",
    "\n",
    "#Smooth by previous quarter (90 days)\n",
    "plot_moving_average(ts, 90, plot_intervals=True)"
   ]
  },
  {
   "cell_type": "code",
   "execution_count": null,
   "id": "d68c6b13-6932-4b22-a4d3-a5d4e23fe067",
   "metadata": {},
   "outputs": [],
   "source": [
    "# Take the first difference to remove to make the process stationary\n",
    "# data_diff = ts - ts.shift(1)\n",
    "\n",
    "# Use pandas to make difference \n",
    "data_diff = ts.diff()\n",
    "\n",
    "# Remove nans\n",
    "data_diff = data_diff.dropna()"
   ]
  },
  {
   "cell_type": "code",
   "execution_count": null,
   "id": "107444c2-58ba-41b2-8920-72439429cba4",
   "metadata": {
    "tags": []
   },
   "outputs": [],
   "source": [
    "#Dickey-Fuller TEST\n",
    "\n",
    "\n",
    "def tsplot(y, lags=None, figsize=(12, 7), syle='bmh'):\n",
    "    \n",
    "    if not isinstance(y, pd.Series):\n",
    "        y = pd.Series(y)\n",
    "        \n",
    "    with plt.style.context(style='bmh'):\n",
    "        fig = plt.figure(figsize=figsize)\n",
    "        layout = (2,2)\n",
    "        ts_ax = plt.subplot2grid(layout, (0,0), colspan=2)\n",
    "        acf_ax = plt.subplot2grid(layout, (1,0))\n",
    "        pacf_ax = plt.subplot2grid(layout, (1,1))\n",
    "        \n",
    "        y.plot(ax=ts_ax)\n",
    "        p_value = sm.tsa.stattools.adfuller(y)[1]\n",
    "        ts_ax.set_title('Time Series Analysis Plots\\n Dickey-Fuller: p={0:.5f}'.format(p_value))\n",
    "        smt.graphics.plot_acf(y, lags=lags, ax=acf_ax)\n",
    "        smt.graphics.plot_pacf(y, lags=lags, ax=pacf_ax)\n",
    "        plt.tight_layout()\n",
    "\n",
    "#plots normal time series for Dickey-Fuller Test\n",
    "tsplot(ts.values, lags=65)\n",
    "\n",
    "tsplot(data_diff.values[1:], lags=65)"
   ]
  },
  {
   "cell_type": "code",
   "execution_count": null,
   "id": "7b6a32f4-6fd6-4d9e-b4c3-f713458d9672",
   "metadata": {},
   "outputs": [],
   "source": [
    "adf_result=adfuller(ts.values)\n",
    "#to help you, we added the names of every value\n",
    "dict(zip(['adf', 'pvalue', 'usedlag', 'nobs', 'critical' 'values', 'icbest'],adf_result))"
   ]
  },
  {
   "cell_type": "code",
   "execution_count": null,
   "id": "b5831fdc-feb6-4577-80cc-cdca4508157e",
   "metadata": {},
   "outputs": [],
   "source": [
    "import pmdarima as pm\n",
    "from pmdarima.arima import auto_arima"
   ]
  },
  {
   "cell_type": "code",
   "execution_count": null,
   "id": "ee343060-0609-4fff-8642-48ddebf105a9",
   "metadata": {},
   "outputs": [],
   "source": [
    "# Train Test Split Index\n",
    "train_size = 0.8\n",
    "split_idx = round(len(ts)* train_size)\n",
    "split_idx\n",
    "\n",
    "# Split\n",
    "arima_train = ts.iloc[:split_idx]\n",
    "arima_test = ts.iloc[split_idx:]\n",
    "\n",
    "# Visualize split\n",
    "fig,ax= plt.subplots(figsize=(15,10))\n",
    "kws = dict(marker='o')\n",
    "plt.plot(arima_train, label='Train', **kws)\n",
    "plt.plot(arima_test, label='Test', **kws)\n",
    "ax.legend(bbox_to_anchor=[1,1]);"
   ]
  },
  {
   "cell_type": "code",
   "execution_count": null,
   "id": "2d536a3d-ea9e-46e8-8fb2-e0661610f626",
   "metadata": {},
   "outputs": [],
   "source": []
  },
  {
   "cell_type": "code",
   "execution_count": null,
   "id": "58e4ac6b-5b0a-4b6f-8036-93b5c869574b",
   "metadata": {},
   "outputs": [],
   "source": [
    "arima_model = auto_arima(arima_train, start_p=0, start_q=0,\n",
    "                             max_p=5, max_q=5, m=12,\n",
    "                             start_P=0, seasonal=True,\n",
    "                             d=1, D=1, trace=True,\n",
    "                             error_action='ignore',  # don't want to know if an order does not work\n",
    "                             suppress_warnings=True,  # don't want convergence warnings\n",
    "                             stepwise=True)  # set to stepwise\n",
    "arima_model.summary()"
   ]
  },
  {
   "cell_type": "code",
   "execution_count": null,
   "id": "6443711c-8805-413f-9712-38effdd55556",
   "metadata": {},
   "outputs": [],
   "source": [
    "arima_model.plot_diagnostics()"
   ]
  },
  {
   "cell_type": "code",
   "execution_count": null,
   "id": "a8e675fa-890c-4a70-8c39-1ea9f9b6c747",
   "metadata": {},
   "outputs": [],
   "source": [
    "prediction = pd.DataFrame(arima_model.predict(n_periods = 31), index=arima_test.index)\n",
    "\n",
    "prediction.columns = ['predicted_close_price']\n",
    "\n",
    "print(prediction)"
   ]
  },
  {
   "cell_type": "code",
   "execution_count": null,
   "id": "ba6e3663-142f-45f4-b094-6ad27a3230b4",
   "metadata": {},
   "outputs": [],
   "source": [
    "#forecasting with ARIMA\n",
    "\n",
    "plt.figure(figsize=(15, 10))\n",
    "plt.plot(arima_train, label = \"Training\")\n",
    "plt.plot(arima_test, label = \"Test\")\n",
    "plt.plot(prediction, label = \"Predicted\")\n",
    "plt.legend(loc = \"upper right\")\n",
    "plt.show()"
   ]
  },
  {
   "cell_type": "code",
   "execution_count": null,
   "id": "e2799a15-b13c-42eb-b245-d0c5d3baaf84",
   "metadata": {},
   "outputs": [],
   "source": []
  },
  {
   "cell_type": "markdown",
   "id": "f061ceeb-16c5-4470-b292-a2c535e0a0c9",
   "metadata": {},
   "source": [
    "MACHINE LEARNING BELOW"
   ]
  },
  {
   "cell_type": "code",
   "execution_count": null,
   "id": "f919ff84-3cf2-4291-9ced-5ee8380eb924",
   "metadata": {},
   "outputs": [],
   "source": [
    "from sktime.forecasting.base import ForecastingHorizon\n",
    "from sktime.transformers.single_series.detrend import Deseasonalizer, Detrender\n",
    "from sktime.forecasting.trend import PolynomialTrendForecaster\n",
    "from sktime.forecasting.model_selection import (\n",
    "    temporal_train_test_split,\n",
    ")\n",
    "from sktime.utils.plotting import plot_series\n",
    "from sktime.forecasting.compose import (\n",
    "    TransformedTargetForecaster,\n",
    "    ReducedRegressionForecaster\n",
    ")"
   ]
  },
  {
   "cell_type": "code",
   "execution_count": null,
   "id": "806121c6-3e93-43e7-a493-098fab4ec2b7",
   "metadata": {
    "tags": []
   },
   "outputs": [],
   "source": [
    "data = pd.read_csv(r'D:\\Documents\\tesla.csv', parse_dates=['Date'])\n",
    "data.sort_values(by='Date', ascending='True')\n"
   ]
  },
  {
   "cell_type": "code",
   "execution_count": null,
   "id": "1ddaf5ed-4cba-4ddf-ba3a-c1a63d017709",
   "metadata": {},
   "outputs": [],
   "source": [
    "y_train, y_test = temporal_train_test_split(ts, test_size=0.2)\n",
    "\n",
    "print(x_train.shape, y_train.shape, x_test.shape, y_test.shape)\n",
    "\n"
   ]
  },
  {
   "cell_type": "code",
   "execution_count": null,
   "id": "68f05d91-4ffe-4248-a90f-aa6df7a88b82",
   "metadata": {},
   "outputs": [],
   "source": [
    "steps = [\n",
    "    (\n",
    "        \"extract\",\n",
    "        RandomIntervalFeatureExtractor(\n",
    "            n_intervals=\"sqrt\", features=[np.mean, np.std, _slope]\n",
    "        ),\n",
    "    ),\n",
    "    (\"clf\", DecisionTreeClassifier()),\n",
    "]\n",
    "time_series_tree = Pipeline(steps)"
   ]
  },
  {
   "cell_type": "code",
   "execution_count": null,
   "id": "be8864ad-e8f6-4ab5-a269-2345c26b9ffd",
   "metadata": {},
   "outputs": [],
   "source": [
    "time_series_tree.fit(x_train, y_train)\n",
    "time_series_tree.score(x_test, y_test)"
   ]
  },
  {
   "cell_type": "code",
   "execution_count": null,
   "id": "c6f98dcb-1654-4694-8293-f71705c85fde",
   "metadata": {},
   "outputs": [],
   "source": []
  }
 ],
 "metadata": {
  "kernelspec": {
   "display_name": "Python 3",
   "language": "python",
   "name": "python3"
  },
  "language_info": {
   "codemirror_mode": {
    "name": "ipython",
    "version": 3
   },
   "file_extension": ".py",
   "mimetype": "text/x-python",
   "name": "python",
   "nbconvert_exporter": "python",
   "pygments_lexer": "ipython3",
   "version": "3.7.10"
  }
 },
 "nbformat": 4,
 "nbformat_minor": 5
}
